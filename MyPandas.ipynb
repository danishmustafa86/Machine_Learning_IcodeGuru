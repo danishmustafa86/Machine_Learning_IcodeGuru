{
  "nbformat": 4,
  "nbformat_minor": 0,
  "metadata": {
    "colab": {
      "provenance": []
    },
    "kernelspec": {
      "name": "python3",
      "display_name": "Python 3"
    },
    "language_info": {
      "name": "python"
    }
  },
  "cells": [
    {
      "cell_type": "code",
      "execution_count": 51,
      "metadata": {
        "colab": {
          "base_uri": "https://localhost:8080/"
        },
        "id": "un5uskj2y8bb",
        "outputId": "a7b7842a-2023-4694-f78c-cf3d94ae31d2"
      },
      "outputs": [
        {
          "output_type": "stream",
          "name": "stdout",
          "text": [
            "   Name_x  Age_x       city degree  Name_y  Age_y\n",
            "0  danish     20    karachi     CS  danish     20\n",
            "1   ahmad     21     lahore     IT   ahmad     21\n",
            "2     ali     22  islamabad     SE     ali     22\n",
            "_____________________________________________________\n",
            "   Name_x  Age_x       city degree  Name_y  Age_y\n",
            "0  danish     20    karachi     CS  danish     20\n",
            "1   ahmad     21     lahore     IT   ahmad     21\n",
            "2     ali     22  islamabad     SE     ali     22\n"
          ]
        }
      ],
      "source": [
        "import pandas as pd\n",
        "data = {\n",
        "    \"Name\" : [\"danish\", \"ahmad\", \"ali\"],\n",
        "    \"Age\" : [20, 21, 22],\n",
        "    \"city\": [\"karachi\", \"lahore\", \"islamabad\"]\n",
        "    }\n",
        "df = pd.DataFrame(data)\n",
        "# print(df)\n",
        "\n",
        "# print(df.info())\n",
        "\n",
        "# print(df.head(2))\n",
        "\n",
        "# print(df.tail(2))\n",
        "\n",
        "# print(df.describe())\n",
        "\n",
        "# selesting columngs\n",
        "# print(df[\"Name\"])\n",
        "# print(df[[\"Name\", \"Age\"]])\n",
        "\n",
        "# selecting rows\n",
        "# print(df.loc[0:2])\n",
        "# print(\"______________\")\n",
        "# print(df.iloc[0:3])\n",
        "\n",
        "# filtring data\n",
        "# print(df[df[\"Age\"] > 21])\n",
        "\n",
        "# adding a new column\n",
        "df[\"degree\"] = [\"CS\",\"IT\",\"SE\"]\n",
        "# print(df)\n",
        "\n",
        "# droping a column\n",
        "# df.drop(\"degree\", axis=1, inplace=True)\n",
        "# print(df)\n",
        "\n",
        "# Merging dataframes\n",
        "data2 = {\n",
        "    \"Name\" : [\"danish\", \"ahmad\", \"ali\"],\n",
        "    \"Age\" : [20, 21, 22],\n",
        "    \"city\": [\"karachi\", \"lahore\", \"islamabad\"]\n",
        "    }\n",
        "df2 = pd.DataFrame(data2)\n",
        "    # print(df)\n",
        "    # print(df2)\n",
        "merge_df2 = pd.merge(df, df2)\n",
        "# merge_df2 = pd.merge(df, df2, )\n",
        "# print(merge_df2)\n",
        "    # concatination\n",
        "    # print(pd.concat([df, df2]))\n",
        "\n",
        "# handling missing values\n",
        "# df.dropna(inplace=\"city\")\n",
        "# print(df)\n",
        "# column droping\n",
        "# df.drop(columns=['city'], inplace=True)\n",
        "# print(df)\n",
        "# row droping\n",
        "# df2.drop(index=0, inplace=True)\n",
        "# print(df2)\n",
        "# handling duplicates\n",
        "print(merge_df2)\n",
        "print(\"_____________________________________________________\")\n",
        "merge_df2.drop_duplicates(inplace=True)\n",
        "print(merge_df2)\n",
        "\n",
        "\n"
      ]
    }
  ]
}